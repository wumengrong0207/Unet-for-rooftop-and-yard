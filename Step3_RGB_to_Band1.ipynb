{
 "cells": [
  {
   "cell_type": "code",
   "execution_count": 5,
   "id": "f3d372c5",
   "metadata": {},
   "outputs": [
    {
     "name": "stdout",
     "output_type": "stream",
     "text": [
      "单波段分类栅格已成功生成\n"
     ]
    }
   ],
   "source": [
    "import arcpy\n",
    "from arcpy.sa import *\n",
    "import os\n",
    "\n",
    "# 确保使用 Spatial Analyst 扩展\n",
    "arcpy.CheckOutExtension(\"Spatial\")\n",
    "\n",
    "# 输入 RGB 栅格所在的文件夹路径\n",
    "input_folder = r\"E:\\rural rooftop and courtyard\\dataset\\predicted_shandong_version_2_19\\shandong_predicted_yinmazhen22_level20\"\n",
    "\n",
    "# 输出结果的文件夹路径\n",
    "output_folder = r\"E:\\rural rooftop and courtyard\\calculate_GIS\\prediction_2_23\"\n",
    "\n",
    "def process_image(input_raster):\n",
    "    # 加载 RGB 栅格\n",
    "    raster = arcpy.Raster(input_raster)\n",
    "\n",
    "    # 获取各波段\n",
    "    red_band = arcpy.Raster(input_raster + \"/Band_1\")   # 明确指定波段\n",
    "    green_band = arcpy.Raster(input_raster + \"/Band_2\")\n",
    "    blue_band = arcpy.Raster(input_raster + \"/Band_3\")\n",
    "\n",
    "    # 构建分类规则\n",
    "    classified_raster = Con((red_band == 0) & (green_band == 0) & (blue_band == 0), 0,\n",
    "                            Con((red_band == 0) & (green_band == 255) & (blue_band == 0), 1,\n",
    "                                Con((red_band == 255) & (green_band == 255) & (blue_band == 0), 2,\n",
    "                                    Con((red_band == 0) & (green_band == 0) & (blue_band == 255), 3, -1))))\n",
    "\n",
    "    # 输出路径\n",
    "    base_name = os.path.basename(input_raster)\n",
    "    output_raster = os.path.join(output_folder, os.path.splitext(base_name)[0] + \"oneband.TIF\")\n",
    "\n",
    "    # 保存结果\n",
    "    classified_raster.save(output_raster)\n",
    "\n",
    "# 遍历输入文件夹中的所有文件\n",
    "for file in os.listdir(input_folder):\n",
    "    if file.endswith('.TIF'):\n",
    "        input_raster = os.path.join(input_folder, file)\n",
    "        process_image(input_raster)\n",
    "\n",
    "# 释放 Spatial Analyst 扩展\n",
    "arcpy.CheckInExtension(\"Spatial\")\n",
    "\n",
    "print(\"单波段分类栅格已成功生成\")"
   ]
  },
  {
   "cell_type": "code",
   "execution_count": null,
   "id": "80ca4618",
   "metadata": {},
   "outputs": [],
   "source": []
  }
 ],
 "metadata": {
  "kernelspec": {
   "display_name": "Python 3",
   "language": "python",
   "name": "python3"
  },
  "language_info": {
   "codemirror_mode": {
    "name": "ipython",
    "version": 3
   },
   "file_extension": ".py",
   "mimetype": "text/x-python",
   "name": "python",
   "nbconvert_exporter": "python",
   "pygments_lexer": "ipython3",
   "version": "3.9.11"
  }
 },
 "nbformat": 4,
 "nbformat_minor": 5
}
